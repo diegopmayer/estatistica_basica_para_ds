{
 "cells": [
  {
   "cell_type": "markdown",
   "metadata": {},
   "source": [
    "# Assiciation rules"
   ]
  },
  {
   "cell_type": "markdown",
   "metadata": {},
   "source": [
    "## 1.0 - Imports"
   ]
  },
  {
   "cell_type": "code",
   "execution_count": 1,
   "metadata": {},
   "outputs": [],
   "source": [
    "import pandas as pd\n",
    "import numpy as np\n",
    "\n",
    "# Only to use on jupyter notebook\n",
    "from IPython.display import display, HTML\n",
    "\n",
    "import seaborn as sns\n",
    "import matplotlib.pylab as plt\n",
    "\n",
    "from apyori import apriori\n",
    "from mlxtend.preprocessing import TransactionEncoder"
   ]
  },
  {
   "cell_type": "code",
   "execution_count": 2,
   "metadata": {},
   "outputs": [
    {
     "data": {
      "text/html": [
       "<style>.conteiner{width:95% !important;}</style>"
      ],
      "text/plain": [
       "<IPython.core.display.HTML object>"
      ]
     },
     "metadata": {},
     "output_type": "display_data"
    }
   ],
   "source": [
    "def jupyter_settings():  \n",
    "    \n",
    "    # show the charts at jupyter cell\n",
    "    %matplotlib inline\n",
    "    \n",
    "    # Matplotlib style and size patterns\n",
    "    plt.style.use('bmh')\n",
    "    plt.rcParams['figure.figsize'] = [25, 12]\n",
    "    plt.rcParams['font.size'] = 20\n",
    "    \n",
    "    # Dataframe control showded\n",
    "    pd.options.display.max_columns = None\n",
    "    pd.options.display.max_rows = None\n",
    "    pd.set_option('display.expand_frame_repr', False)\n",
    "    \n",
    "    # Vizualization expanded to 95% of screen\n",
    "    display(HTML('<style>.conteiner{width:95% !important;}</style>'))\n",
    "\n",
    "    # Apply into seaborn\n",
    "    sns.set()\n",
    "\n",
    "    \n",
    "# Function Called\n",
    "jupyter_settings()"
   ]
  },
  {
   "cell_type": "markdown",
   "metadata": {},
   "source": [
    "## 2.0 - Data Extraction"
   ]
  },
  {
   "cell_type": "code",
   "execution_count": 3,
   "metadata": {},
   "outputs": [],
   "source": [
    "df = pd.read_csv('../dataset/census.csv')"
   ]
  },
  {
   "cell_type": "markdown",
   "metadata": {},
   "source": [
    "## 3.0 - Data Understanding"
   ]
  },
  {
   "cell_type": "markdown",
   "metadata": {},
   "source": [
    "### 3.1 - Describing data"
   ]
  },
  {
   "cell_type": "code",
   "execution_count": 4,
   "metadata": {},
   "outputs": [
    {
     "data": {
      "text/plain": [
       "(32561, 15)"
      ]
     },
     "execution_count": 4,
     "metadata": {},
     "output_type": "execute_result"
    }
   ],
   "source": [
    "df.shape"
   ]
  },
  {
   "cell_type": "code",
   "execution_count": 154,
   "metadata": {},
   "outputs": [
    {
     "name": "stderr",
     "output_type": "stream",
     "text": [
      "/tmp/ipykernel_9640/1093006105.py:9: FutureWarning: The default value of numeric_only in DataFrame.mean is deprecated. In a future version, it will default to False. In addition, specifying 'numeric_only=None' is deprecated. Select only valid columns or specify the value of numeric_only to silence this warning.\n",
      "  df.mean().round(),\n",
      "/tmp/ipykernel_9640/1093006105.py:10: FutureWarning: The default value of numeric_only in DataFrame.std is deprecated. In a future version, it will default to False. In addition, specifying 'numeric_only=None' is deprecated. Select only valid columns or specify the value of numeric_only to silence this warning.\n",
      "  df.std().round(),\n"
     ]
    },
    {
     "data": {
      "text/html": [
       "<div>\n",
       "<style scoped>\n",
       "    .dataframe tbody tr th:only-of-type {\n",
       "        vertical-align: middle;\n",
       "    }\n",
       "\n",
       "    .dataframe tbody tr th {\n",
       "        vertical-align: top;\n",
       "    }\n",
       "\n",
       "    .dataframe thead th {\n",
       "        text-align: right;\n",
       "    }\n",
       "</style>\n",
       "<table border=\"1\" class=\"dataframe\">\n",
       "  <thead>\n",
       "    <tr style=\"text-align: right;\">\n",
       "      <th></th>\n",
       "      <th>dtypes</th>\n",
       "      <th>null_value</th>\n",
       "      <th>unique</th>\n",
       "      <th>min</th>\n",
       "      <th>max</th>\n",
       "      <th>mean</th>\n",
       "      <th>std</th>\n",
       "      <th>0</th>\n",
       "      <th>1</th>\n",
       "      <th>2</th>\n",
       "    </tr>\n",
       "  </thead>\n",
       "  <tbody>\n",
       "    <tr>\n",
       "      <th>age</th>\n",
       "      <td>int64</td>\n",
       "      <td>0</td>\n",
       "      <td>73</td>\n",
       "      <td>17</td>\n",
       "      <td>90</td>\n",
       "      <td>39.0</td>\n",
       "      <td>14.0</td>\n",
       "      <td>27</td>\n",
       "      <td>30</td>\n",
       "      <td>20</td>\n",
       "    </tr>\n",
       "    <tr>\n",
       "      <th>workclass</th>\n",
       "      <td>object</td>\n",
       "      <td>0</td>\n",
       "      <td>9</td>\n",
       "      <td>?</td>\n",
       "      <td>Without-pay</td>\n",
       "      <td>NaN</td>\n",
       "      <td>NaN</td>\n",
       "      <td>Private</td>\n",
       "      <td>Self-emp-not-inc</td>\n",
       "      <td>Private</td>\n",
       "    </tr>\n",
       "    <tr>\n",
       "      <th>final-weight</th>\n",
       "      <td>int64</td>\n",
       "      <td>0</td>\n",
       "      <td>21648</td>\n",
       "      <td>12285</td>\n",
       "      <td>1484705</td>\n",
       "      <td>189778.0</td>\n",
       "      <td>105550.0</td>\n",
       "      <td>133425</td>\n",
       "      <td>404062</td>\n",
       "      <td>249543</td>\n",
       "    </tr>\n",
       "    <tr>\n",
       "      <th>education</th>\n",
       "      <td>object</td>\n",
       "      <td>0</td>\n",
       "      <td>16</td>\n",
       "      <td>10th</td>\n",
       "      <td>Some-college</td>\n",
       "      <td>NaN</td>\n",
       "      <td>NaN</td>\n",
       "      <td>HS-grad</td>\n",
       "      <td>HS-grad</td>\n",
       "      <td>Some-college</td>\n",
       "    </tr>\n",
       "    <tr>\n",
       "      <th>education-num</th>\n",
       "      <td>int64</td>\n",
       "      <td>0</td>\n",
       "      <td>16</td>\n",
       "      <td>1</td>\n",
       "      <td>16</td>\n",
       "      <td>10.0</td>\n",
       "      <td>3.0</td>\n",
       "      <td>9</td>\n",
       "      <td>9</td>\n",
       "      <td>10</td>\n",
       "    </tr>\n",
       "    <tr>\n",
       "      <th>marital-status</th>\n",
       "      <td>object</td>\n",
       "      <td>0</td>\n",
       "      <td>7</td>\n",
       "      <td>Divorced</td>\n",
       "      <td>Widowed</td>\n",
       "      <td>NaN</td>\n",
       "      <td>NaN</td>\n",
       "      <td>Never-married</td>\n",
       "      <td>Married-civ-spouse</td>\n",
       "      <td>Never-married</td>\n",
       "    </tr>\n",
       "    <tr>\n",
       "      <th>occupation</th>\n",
       "      <td>object</td>\n",
       "      <td>0</td>\n",
       "      <td>15</td>\n",
       "      <td>?</td>\n",
       "      <td>Transport-moving</td>\n",
       "      <td>NaN</td>\n",
       "      <td>NaN</td>\n",
       "      <td>Exec-managerial</td>\n",
       "      <td>Prof-specialty</td>\n",
       "      <td>Protective-serv</td>\n",
       "    </tr>\n",
       "    <tr>\n",
       "      <th>relationship</th>\n",
       "      <td>object</td>\n",
       "      <td>0</td>\n",
       "      <td>6</td>\n",
       "      <td>Husband</td>\n",
       "      <td>Wife</td>\n",
       "      <td>NaN</td>\n",
       "      <td>NaN</td>\n",
       "      <td>Not-in-family</td>\n",
       "      <td>Husband</td>\n",
       "      <td>Own-child</td>\n",
       "    </tr>\n",
       "    <tr>\n",
       "      <th>race</th>\n",
       "      <td>object</td>\n",
       "      <td>0</td>\n",
       "      <td>5</td>\n",
       "      <td>Amer-Indian-Eskimo</td>\n",
       "      <td>White</td>\n",
       "      <td>NaN</td>\n",
       "      <td>NaN</td>\n",
       "      <td>White</td>\n",
       "      <td>White</td>\n",
       "      <td>White</td>\n",
       "    </tr>\n",
       "    <tr>\n",
       "      <th>sex</th>\n",
       "      <td>object</td>\n",
       "      <td>0</td>\n",
       "      <td>2</td>\n",
       "      <td>Female</td>\n",
       "      <td>Male</td>\n",
       "      <td>NaN</td>\n",
       "      <td>NaN</td>\n",
       "      <td>Female</td>\n",
       "      <td>Male</td>\n",
       "      <td>Female</td>\n",
       "    </tr>\n",
       "    <tr>\n",
       "      <th>capital-gain</th>\n",
       "      <td>int64</td>\n",
       "      <td>0</td>\n",
       "      <td>119</td>\n",
       "      <td>0</td>\n",
       "      <td>99999</td>\n",
       "      <td>1078.0</td>\n",
       "      <td>7385.0</td>\n",
       "      <td>0</td>\n",
       "      <td>0</td>\n",
       "      <td>0</td>\n",
       "    </tr>\n",
       "    <tr>\n",
       "      <th>capital-loos</th>\n",
       "      <td>int64</td>\n",
       "      <td>0</td>\n",
       "      <td>92</td>\n",
       "      <td>0</td>\n",
       "      <td>4356</td>\n",
       "      <td>87.0</td>\n",
       "      <td>403.0</td>\n",
       "      <td>0</td>\n",
       "      <td>1977</td>\n",
       "      <td>0</td>\n",
       "    </tr>\n",
       "    <tr>\n",
       "      <th>hour-per-week</th>\n",
       "      <td>int64</td>\n",
       "      <td>0</td>\n",
       "      <td>94</td>\n",
       "      <td>1</td>\n",
       "      <td>99</td>\n",
       "      <td>40.0</td>\n",
       "      <td>12.0</td>\n",
       "      <td>50</td>\n",
       "      <td>15</td>\n",
       "      <td>16</td>\n",
       "    </tr>\n",
       "    <tr>\n",
       "      <th>native-country</th>\n",
       "      <td>object</td>\n",
       "      <td>0</td>\n",
       "      <td>42</td>\n",
       "      <td>?</td>\n",
       "      <td>Yugoslavia</td>\n",
       "      <td>NaN</td>\n",
       "      <td>NaN</td>\n",
       "      <td>United-States</td>\n",
       "      <td>United-States</td>\n",
       "      <td>United-States</td>\n",
       "    </tr>\n",
       "    <tr>\n",
       "      <th>income</th>\n",
       "      <td>object</td>\n",
       "      <td>0</td>\n",
       "      <td>2</td>\n",
       "      <td>&lt;=50K</td>\n",
       "      <td>&gt;50K</td>\n",
       "      <td>NaN</td>\n",
       "      <td>NaN</td>\n",
       "      <td>&lt;=50K</td>\n",
       "      <td>&gt;50K</td>\n",
       "      <td>&lt;=50K</td>\n",
       "    </tr>\n",
       "  </tbody>\n",
       "</table>\n",
       "</div>"
      ],
      "text/plain": [
       "                dtypes  null_value  unique                  min                max      mean       std                 0                    1                 2\n",
       "age              int64           0      73                   17                 90      39.0      14.0                27                   30                20\n",
       "workclass       object           0       9                    ?        Without-pay       NaN       NaN           Private     Self-emp-not-inc           Private\n",
       "final-weight     int64           0   21648                12285            1484705  189778.0  105550.0            133425               404062            249543\n",
       "education       object           0      16                 10th       Some-college       NaN       NaN           HS-grad              HS-grad      Some-college\n",
       "education-num    int64           0      16                    1                 16      10.0       3.0                 9                    9                10\n",
       "marital-status  object           0       7             Divorced            Widowed       NaN       NaN     Never-married   Married-civ-spouse     Never-married\n",
       "occupation      object           0      15                    ?   Transport-moving       NaN       NaN   Exec-managerial       Prof-specialty   Protective-serv\n",
       "relationship    object           0       6              Husband               Wife       NaN       NaN     Not-in-family              Husband         Own-child\n",
       "race            object           0       5   Amer-Indian-Eskimo              White       NaN       NaN             White                White             White\n",
       "sex             object           0       2               Female               Male       NaN       NaN            Female                 Male            Female\n",
       "capital-gain     int64           0     119                    0              99999    1078.0    7385.0                 0                    0                 0\n",
       "capital-loos     int64           0      92                    0               4356      87.0     403.0                 0                 1977                 0\n",
       "hour-per-week    int64           0      94                    1                 99      40.0      12.0                50                   15                16\n",
       "native-country  object           0      42                    ?         Yugoslavia       NaN       NaN     United-States        United-States     United-States\n",
       "income          object           0       2                <=50K               >50K       NaN       NaN             <=50K                 >50K             <=50K"
      ]
     },
     "execution_count": 154,
     "metadata": {},
     "output_type": "execute_result"
    }
   ],
   "source": [
    "desc = (\n",
    "    pd.concat(\n",
    "        [\n",
    "            df.dtypes,\n",
    "            df.isna().sum(),\n",
    "            df.nunique(),\n",
    "            df.min(),\n",
    "            df.max(),\n",
    "            df.mean().round(),\n",
    "            df.std().round(),\n",
    "            df.sample(3).T\n",
    "        ]\n",
    "    , axis=1)\n",
    ")\n",
    "desc.columns = [\n",
    "    'dtypes', 'null_value', 'unique', \n",
    "    'min', 'max', 'mean', 'std', 0, 1, 2\n",
    "]\n",
    "desc"
   ]
  },
  {
   "cell_type": "markdown",
   "metadata": {},
   "source": [
    "* Dont have null values\n",
    "* capital gain an loos haven't enough examples, it'll be deleted\n",
    "* `age`, `final-weight`, `hour-per-week`\n",
    "* `education-num` it'll change the data types to category"
   ]
  },
  {
   "cell_type": "code",
   "execution_count": 155,
   "metadata": {},
   "outputs": [],
   "source": [
    "df = df.drop(['capital-gain', 'capital-loos'], axis=1).copy()"
   ]
  },
  {
   "cell_type": "code",
   "execution_count": 156,
   "metadata": {},
   "outputs": [
    {
     "data": {
      "image/png": "[encoded data removed]",
      "text/plain": [
       "<Figure size 2500x1200 with 4 Axes>"
      ]
     },
     "metadata": {},
     "output_type": "display_data"
    }
   ],
   "source": [
    "df.hist(bins=16);"
   ]
  },
  {
   "cell_type": "markdown",
   "metadata": {},
   "source": [
    "### 3.2 - `age`"
   ]
  },
  {
   "cell_type": "code",
   "execution_count": 19,
   "metadata": {},
   "outputs": [
    {
     "data": {
      "image/png": "[encoded data removed]",
      "text/plain": [
       "<Figure size 640x480 with 1 Axes>"
      ]
     },
     "metadata": {},
     "output_type": "display_data"
    }
   ],
   "source": [
    "plt.hist(data=df, x='age', bins='sturges');"
   ]
  },
  {
   "cell_type": "markdown",
   "metadata": {},
   "source": [
    "Let's cut the numeric values to categorical by range each 10 (10,20,30...)"
   ]
  },
  {
   "cell_type": "code",
   "execution_count": 22,
   "metadata": {},
   "outputs": [
    {
     "data": {
      "text/plain": [
       "(30, 40]    8546\n",
       "(20, 30]    8162\n",
       "(40, 50]    6983\n",
       "(50, 60]    4128\n",
       "(60, 90]    2332\n",
       "(17, 20]    2015\n",
       "Name: age, dtype: int64"
      ]
     },
     "execution_count": 22,
     "metadata": {},
     "output_type": "execute_result"
    }
   ],
   "source": [
    "pd.cut(df['age'], bins=[df['age'].min(),20,30,40, 50, 60, df['age'].max()]).value_counts()"
   ]
  },
  {
   "cell_type": "markdown",
   "metadata": {},
   "source": [
    "### 3.3 - `final-weight`"
   ]
  },
  {
   "cell_type": "code",
   "execution_count": 42,
   "metadata": {},
   "outputs": [
    {
     "data": {
      "text/plain": [
       "(110446.333, 208607.667]      14441\n",
       "(10812.58, 110446.333]         7031\n",
       "(208607.667, 306769.0]         6972\n",
       "(306769.0, 404930.333]         2946\n",
       "(404930.333, 503091.667]        810\n",
       "(503091.667, 601253.0]          219\n",
       "(601253.0, 699414.333]           78\n",
       "(699414.333, 797575.667]         34\n",
       "(797575.667, 895737.0]           10\n",
       "(895737.0, 993898.333]            7\n",
       "(993898.333, 1092059.667]         4\n",
       "(1092059.667, 1190221.0]          4\n",
       "(1190221.0, 1288382.333]          2\n",
       "(1386543.667, 1484705.0]          2\n",
       "(1288382.333, 1386543.667]        1\n",
       "Name: final-weight, dtype: int64"
      ]
     },
     "execution_count": 42,
     "metadata": {},
     "output_type": "execute_result"
    }
   ],
   "source": [
    "fw_min = df['final-weight'].min()\n",
    "fw_max = df['final-weight'].max()\n",
    "\n",
    "# calculating sturges to get the interval values\n",
    "aa = fw_max - fw_min\n",
    "i = int(1+3.3*np.log10(df.shape[0]))\n",
    "\n",
    "pd.cut(\n",
    "    x=df['final-weight'], \n",
    "    bins=i\n",
    "    ).value_counts()"
   ]
  },
  {
   "cell_type": "markdown",
   "metadata": {},
   "source": [
    "After calculating sturges and see the distribution above, I decided get the manual values by stuges but concanate >699414 to reduce the classes"
   ]
  },
  {
   "cell_type": "code",
   "execution_count": 44,
   "metadata": {},
   "outputs": [
    {
     "data": {
      "text/plain": [
       "(110446, 208607]     14441\n",
       "(12285, 110446]       7030\n",
       "(208607, 306769]      6972\n",
       "(306769, 404930]      2946\n",
       "(404930, 503091]       810\n",
       "(503091, 601253]       219\n",
       "(601253, 1484705]      142\n",
       "Name: final-weight, dtype: int64"
      ]
     },
     "execution_count": 44,
     "metadata": {},
     "output_type": "execute_result"
    }
   ],
   "source": [
    "range_list = [fw_min, 110446, 208607, 306769, 404930, 503091, 601253, fw_max]\n",
    "\n",
    "pd.cut(\n",
    "    x=df['final-weight'], \n",
    "    bins=range_list\n",
    "    ).value_counts()"
   ]
  },
  {
   "cell_type": "markdown",
   "metadata": {},
   "source": [
    "### 3.4 - `hour-per-week`"
   ]
  },
  {
   "cell_type": "code",
   "execution_count": 11,
   "metadata": {},
   "outputs": [
    {
     "data": {
      "text/plain": [
       "16.0"
      ]
     },
     "execution_count": 11,
     "metadata": {},
     "output_type": "execute_result"
    }
   ],
   "source": [
    "# calculanting sturges to get a count of classes\n",
    "i = 1+3.3*np.log10(df.shape[0])\n",
    "i.round()"
   ]
  },
  {
   "cell_type": "code",
   "execution_count": 12,
   "metadata": {},
   "outputs": [
    {
     "data": {
      "text/plain": [
       "<AxesSubplot: >"
      ]
     },
     "execution_count": 12,
     "metadata": {},
     "output_type": "execute_result"
    },
    {
     "data": {
      "image/png": "[encoded data removed]",
      "text/plain": [
       "<Figure size 2500x1200 with 1 Axes>"
      ]
     },
     "metadata": {},
     "output_type": "display_data"
    }
   ],
   "source": [
    "df['hour-per-week'].hist(bins=16)"
   ]
  },
  {
   "cell_type": "code",
   "execution_count": 14,
   "metadata": {},
   "outputs": [
    {
     "data": {
      "text/plain": [
       "(37.75, 43.875]    16137\n",
       "(43.875, 50.0]      5532\n",
       "(19.375, 25.5]      2239\n",
       "(31.625, 37.75]     1999\n",
       "(56.125, 62.25]     1545\n",
       "(25.5, 31.625]      1307\n",
       "(50.0, 56.125]      1008\n",
       "(13.25, 19.375]      761\n",
       "(7.125, 13.25]       648\n",
       "(68.375, 74.5]       365\n",
       "(62.25, 68.375]      301\n",
       "(0.902, 7.125]       295\n",
       "(74.5, 80.625]       216\n",
       "(92.875, 99.0]       106\n",
       "(80.625, 86.75]       64\n",
       "(86.75, 92.875]       38\n",
       "Name: hour-per-week, dtype: int64"
      ]
     },
     "execution_count": 14,
     "metadata": {},
     "output_type": "execute_result"
    }
   ],
   "source": [
    "pd.cut(x=df['hour-per-week'], bins=16).value_counts()"
   ]
  },
  {
   "cell_type": "code",
   "execution_count": 26,
   "metadata": {},
   "outputs": [
    {
     "data": {
      "text/plain": [
       "(37, 44]    16349\n",
       "(44, 50]     5320\n",
       "(19, 25]     2239\n",
       "(31, 37]     1999\n",
       "(56, 62]     1545\n",
       "(25, 31]     1307\n",
       "(62, 99]     1090\n",
       "(50, 56]     1008\n",
       "(0, 13]       943\n",
       "(13, 19]      761\n",
       "Name: hour-per-week, dtype: int64"
      ]
     },
     "execution_count": 26,
     "metadata": {},
     "output_type": "execute_result"
    }
   ],
   "source": [
    "range_list = [0, 13, 19, 25, 31, 37, 44, 50, 56, 62, df['hour-per-week'].max()]\n",
    "pd.cut(x=df['hour-per-week'], bins=range_list).value_counts()"
   ]
  },
  {
   "cell_type": "markdown",
   "metadata": {},
   "source": [
    "### 3.5 - `education-num`"
   ]
  },
  {
   "cell_type": "code",
   "execution_count": 51,
   "metadata": {},
   "outputs": [
    {
     "data": {
      "text/plain": [
       "CategoricalDtype(categories=[1, 2, 3, 4, 5, 6, 7, 8, 9, 10, 11, 12, 13, 14, 15, 16], ordered=False)"
      ]
     },
     "execution_count": 51,
     "metadata": {},
     "output_type": "execute_result"
    }
   ],
   "source": [
    "df['education-num'].astype('category').dtypes"
   ]
  },
  {
   "cell_type": "markdown",
   "metadata": {},
   "source": [
    "## 4.0 - Data Cleaning"
   ]
  },
  {
   "cell_type": "code",
   "execution_count": 4,
   "metadata": {},
   "outputs": [],
   "source": [
    "\n",
    "def drop_features(data):\n",
    "    \n",
    "    data = data.drop(['capital-gain', 'capital-loos'], axis=1).copy()\n",
    "    \n",
    "    return data\n",
    "\n",
    "\n",
    "def change_datatype(data):\n",
    "\n",
    "    '''\n",
    "        Action:\n",
    "            Change the type of data\n",
    "    '''\n",
    "    \n",
    "    data['education-num'] = data['education-num'].astype('category')\n",
    "\n",
    "    return data"
   ]
  },
  {
   "cell_type": "code",
   "execution_count": 5,
   "metadata": {},
   "outputs": [],
   "source": [
    "df = drop_features(df)\n",
    "df = change_datatype(df)"
   ]
  },
  {
   "cell_type": "markdown",
   "metadata": {},
   "source": [
    "## 5.0 - Data Transformation"
   ]
  },
  {
   "cell_type": "code",
   "execution_count": 6,
   "metadata": {},
   "outputs": [],
   "source": [
    "def binning_feature(data):\n",
    "\n",
    "    '''\n",
    "        Transforming numeric to categorical features.\n",
    "\n",
    "        The method used to cut classes was the Sturges's calculous\n",
    "        and empirical business knowledge after the interval range defined\n",
    "        it will get the discrete or continuous columns \n",
    "        and converting to categorical values.\n",
    "    '''\n",
    "\n",
    "    # Age column\n",
    "    data['age'] = pd.cut(\n",
    "        data['age'], bins=[data['age'].min(),20,30,40, 50, 60, data['age'].max()]\n",
    "    )\n",
    "\n",
    "    # final-weight column\n",
    "    fw_min, fw_max= data['final-weight'].min(), data['final-weight'].max()\n",
    "    range_list = [fw_min, 110446, 208607, 306769, 404930, 503091, 601253, fw_max]\n",
    "    data['final-weight'] = pd.cut(\n",
    "        x=data['final-weight'], \n",
    "        bins=range_list\n",
    "    )\n",
    "\n",
    "    range_list = [0, 13, 19, 25, 31, 37, 44, 50, 56, 62, data['hour-per-week'].max()]\n",
    "    data['hour-per-week'] = pd.cut(x=data['hour-per-week'], bins=range_list)\n",
    "    \n",
    "    return data"
   ]
  },
  {
   "cell_type": "code",
   "execution_count": 7,
   "metadata": {},
   "outputs": [],
   "source": [
    "df = binning_feature(df)"
   ]
  },
  {
   "cell_type": "markdown",
   "metadata": {},
   "source": [
    "## 6.0 - Data Selection"
   ]
  },
  {
   "cell_type": "markdown",
   "metadata": {},
   "source": [
    "## 7.0 - Modeling"
   ]
  },
  {
   "cell_type": "code",
   "execution_count": 47,
   "metadata": {},
   "outputs": [],
   "source": [
    "pred = apriori(df, min_support=0.4, min_confidence=0.8)"
   ]
  },
  {
   "cell_type": "code",
   "execution_count": 48,
   "metadata": {},
   "outputs": [],
   "source": [
    "ra = list(pred)"
   ]
  },
  {
   "cell_type": "code",
   "execution_count": 51,
   "metadata": {},
   "outputs": [
    {
     "data": {
      "text/plain": [
       "[frozenset({'a', 'c'}),\n",
       " 0.46153846153846156,\n",
       " [OrderedStatistic(items_base=frozenset({'c'}), items_add=frozenset({'a'}), confidence=0.8571428571428572, lift=1.1142857142857143)]]"
      ]
     },
     "execution_count": 51,
     "metadata": {},
     "output_type": "execute_result"
    }
   ],
   "source": [
    "[row for row in ra[0]]"
   ]
  }
 ],
 "metadata": {
  "kernelspec": {
   "display_name": "Python 3.10.6 ('.venv_310': venv)",
   "language": "python",
   "name": "python3"
  },
  "language_info": {
   "codemirror_mode": {
    "name": "ipython",
    "version": 3
   },
   "file_extension": ".py",
   "mimetype": "text/x-python",
   "name": "python",
   "nbconvert_exporter": "python",
   "pygments_lexer": "ipython3",
   "version": "3.10.6"
  },
  "orig_nbformat": 4,
  "vscode": {
   "interpreter": {
    "hash": "e3042af1f888418a43d9dff8dd6c211171489a2487d37731bf85ce4e3fe926b3"
   }
  }
 },
 "nbformat": 4,
 "nbformat_minor": 2
}
